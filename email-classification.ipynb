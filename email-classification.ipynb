{
  "nbformat": 4,
  "nbformat_minor": 0,
  "metadata": {
    "colab": {
      "provenance": [],
      "gpuType": "T4"
    },
    "kernelspec": {
      "name": "python3",
      "display_name": "Python 3"
    },
    "language_info": {
      "name": "python"
    },
    "accelerator": "GPU"
  },
  "cells": [
    {
      "cell_type": "markdown",
      "source": [
        "#### Name: Sankalp Indish\n",
        "#### Roll: BEB75\n",
        "#### Batch: B4\n",
        "#### Title: Classify the email using the binary classification method. Use K-Nearest Neighbors and Support Vector Machine for classification.\n",
        "#### Dataset link: https://www.kaggle.com/datasets/balaka18/email-spam-classification-dataset-csv"
      ],
      "metadata": {
        "id": "cIINmFSsy9IR"
      }
    },
    {
      "cell_type": "markdown",
      "source": [
        "##### Step 1: Importing the required libraries"
      ],
      "metadata": {
        "id": "8H86Btygz6X1"
      }
    },
    {
      "cell_type": "code",
      "execution_count": 3,
      "metadata": {
        "id": "nlNgVubcy5Ti"
      },
      "outputs": [],
      "source": [
        "import pandas as pd\n",
        "from sklearn.model_selection import train_test_split\n",
        "from sklearn.neighbors import KNeighborsClassifier\n",
        "from sklearn.svm import SVC\n",
        "from sklearn.metrics import accuracy_score, confusion_matrix, classification_report\n",
        "import seaborn as sns\n",
        "import matplotlib.pyplot as plt\n",
        "\n",
        "import warnings\n",
        "warnings.filterwarnings('ignore')"
      ]
    },
    {
      "cell_type": "markdown",
      "source": [
        "##### Step 2: Prepare Data"
      ],
      "metadata": {
        "id": "CJ9cCS9jz8VS"
      }
    },
    {
      "cell_type": "code",
      "source": [
        "# Load dataset (already done)\n",
        "df = pd.read_csv(\"emails.csv\")\n",
        "\n",
        "# Drop \"Email No.\" as it's just an identifier\n",
        "df.drop(columns=['Email No.'], inplace=True)\n",
        "\n",
        "# Features and labels\n",
        "X = df.drop(columns=['Prediction'])\n",
        "y = df['Prediction']\n",
        "\n",
        "# Train-test split\n",
        "X_train, X_test, y_train, y_test = train_test_split(X, y, test_size=0.2, random_state=42)\n"
      ],
      "metadata": {
        "id": "8Lj10k72zymp"
      },
      "execution_count": 4,
      "outputs": []
    },
    {
      "cell_type": "markdown",
      "source": [
        "##### Step 3: Train K-Nearest Neighbors"
      ],
      "metadata": {
        "id": "qnhtGdDA0HYR"
      }
    },
    {
      "cell_type": "code",
      "source": [
        "knn = KNeighborsClassifier(n_neighbors=5)\n",
        "knn.fit(X_train, y_train)\n",
        "y_pred_knn = knn.predict(X_test)"
      ],
      "metadata": {
        "id": "QpbFc79t0EP0"
      },
      "execution_count": 5,
      "outputs": []
    },
    {
      "cell_type": "markdown",
      "source": [
        "##### Step 4: Train Support Vector Machine"
      ],
      "metadata": {
        "id": "kzMhmQQl0K1g"
      }
    },
    {
      "cell_type": "code",
      "source": [
        "svm = SVC(kernel='linear')\n",
        "svm.fit(X_train, y_train)\n",
        "y_pred_svm = svm.predict(X_test)"
      ],
      "metadata": {
        "id": "47Ttt5qc0JUg"
      },
      "execution_count": 6,
      "outputs": []
    },
    {
      "cell_type": "markdown",
      "source": [
        "##### Step 5: Evaluate Models"
      ],
      "metadata": {
        "id": "pLaktR-F0NTW"
      }
    },
    {
      "cell_type": "code",
      "source": [
        "def evaluate_model(y_true, y_pred, model_name):\n",
        "    print(f\"\\n📌 {model_name} Results\")\n",
        "    print(\"Accuracy:\", accuracy_score(y_true, y_pred))\n",
        "    print(\"Confusion Matrix:\")\n",
        "    print(confusion_matrix(y_true, y_pred))\n",
        "    print(\"\\nClassification Report:\\n\", classification_report(y_true, y_pred))\n",
        "\n",
        "evaluate_model(y_test, y_pred_knn, \"K-Nearest Neighbors\")\n",
        "evaluate_model(y_test, y_pred_svm, \"Support Vector Machine\")\n"
      ],
      "metadata": {
        "colab": {
          "base_uri": "https://localhost:8080/"
        },
        "id": "f2chv4uf0MwH",
        "outputId": "5a970770-f644-4b3a-9218-9d16a2f18ce6"
      },
      "execution_count": 7,
      "outputs": [
        {
          "output_type": "stream",
          "name": "stdout",
          "text": [
            "\n",
            "📌 K-Nearest Neighbors Results\n",
            "Accuracy: 0.863768115942029\n",
            "Confusion Matrix:\n",
            "[[646  93]\n",
            " [ 48 248]]\n",
            "\n",
            "Classification Report:\n",
            "               precision    recall  f1-score   support\n",
            "\n",
            "           0       0.93      0.87      0.90       739\n",
            "           1       0.73      0.84      0.78       296\n",
            "\n",
            "    accuracy                           0.86      1035\n",
            "   macro avg       0.83      0.86      0.84      1035\n",
            "weighted avg       0.87      0.86      0.87      1035\n",
            "\n",
            "\n",
            "📌 Support Vector Machine Results\n",
            "Accuracy: 0.9594202898550724\n",
            "Confusion Matrix:\n",
            "[[715  24]\n",
            " [ 18 278]]\n",
            "\n",
            "Classification Report:\n",
            "               precision    recall  f1-score   support\n",
            "\n",
            "           0       0.98      0.97      0.97       739\n",
            "           1       0.92      0.94      0.93       296\n",
            "\n",
            "    accuracy                           0.96      1035\n",
            "   macro avg       0.95      0.95      0.95      1035\n",
            "weighted avg       0.96      0.96      0.96      1035\n",
            "\n"
          ]
        }
      ]
    },
    {
      "cell_type": "markdown",
      "source": [
        "##### Step 6: Visualize Confusion Matrix"
      ],
      "metadata": {
        "id": "j1mc8CQq0TAr"
      }
    },
    {
      "cell_type": "code",
      "source": [
        "# KNN\n",
        "plt.figure(figsize=(5,4))\n",
        "sns.heatmap(confusion_matrix(y_test, y_pred_knn), annot=True, fmt='d', cmap='Blues')\n",
        "plt.title(\"KNN Confusion Matrix\")\n",
        "plt.xlabel(\"Predicted\")\n",
        "plt.ylabel(\"Actual\")\n",
        "plt.show()\n",
        "\n",
        "# SVM\n",
        "plt.figure(figsize=(5,4))\n",
        "sns.heatmap(confusion_matrix(y_test, y_pred_svm), annot=True, fmt='d', cmap='Greens')\n",
        "plt.title(\"SVM Confusion Matrix\")\n",
        "plt.xlabel(\"Predicted\")\n",
        "plt.ylabel(\"Actual\")\n",
        "plt.show()"
      ],
      "metadata": {
        "colab": {
          "base_uri": "https://localhost:8080/",
          "height": 803
        },
        "id": "sIxMq0BW0Sxj",
        "outputId": "c6d692cd-eb7a-4450-ea1c-88aeaaa69625"
      },
      "execution_count": 8,
      "outputs": [
        {
          "output_type": "display_data",
          "data": {
            "text/plain": [
              "<Figure size 500x400 with 2 Axes>"
            ],
            "image/png": "[encoded data removed]"
          },
          "metadata": {}
        },
        {
          "output_type": "display_data",
          "data": {
            "text/plain": [
              "<Figure size 500x400 with 2 Axes>"
            ],
            "image/png": "[encoded data removed]"
          },
          "metadata": {}
        }
      ]
    },
    {
      "cell_type": "markdown",
      "source": [
        "### **Conclusion**\n",
        "\n",
        "In this practical, we implemented and compared two supervised machine learning models — **K-Nearest Neighbors (KNN)** and **Support Vector Machine (SVM)** — for binary classification of emails as **Spam** or **Not Spam** using the preprocessed `emails.csv` dataset.\n",
        "\n",
        "#### 🔹 **Model Performance Summary:**\n",
        "\n",
        "| Metric           | KNN    | SVM        |\n",
        "| ---------------- | ------ | ---------- |\n",
        "| Accuracy         | 86.38% | **95.94%** |\n",
        "| Precision (Spam) | 73%    | **92%**    |\n",
        "| Recall (Spam)    | 84%    | **94%**    |\n",
        "| F1-Score (Spam)  | 78%    | **93%**    |\n",
        "\n",
        "#### 📌 **Observations:**\n",
        "\n",
        "* **KNN** gave decent results but struggled with precision and had a higher number of false positives.\n",
        "* **SVM (linear kernel)** clearly outperformed KNN in all evaluation metrics, showing higher accuracy, precision, and recall.\n",
        "* This highlights that **SVM is better suited for high-dimensional sparse data** like email text classification.\n",
        "\n",
        "- Support Vector Machine proved to be the more effective classifier for email spam detection, making it the recommended model for real-world deployment in similar use cases."
      ],
      "metadata": {
        "id": "Z3uW7qBP0fOH"
      }
    },
    {
      "cell_type": "code",
      "source": [
        "# Completed"
      ],
      "metadata": {
        "id": "AHU9zmqJ0REU"
      },
      "execution_count": 9,
      "outputs": []
    }
  ]
}